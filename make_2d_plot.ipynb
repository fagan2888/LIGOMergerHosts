{
 "cells": [
  {
   "cell_type": "markdown",
   "metadata": {},
   "source": [
    "## Let's make a 2d plot with axes on the sides!\n",
    "Load some useful modules, then the data"
   ]
  },
  {
   "cell_type": "code",
   "execution_count": 32,
   "metadata": {
    "collapsed": false
   },
   "outputs": [],
   "source": [
    "%matplotlib inline\n",
    "from numpy import *\n",
    "import matplotlib.pyplot as plt\n",
    "import matplotlib.ticker as plticker\n",
    "import matplotlib as mpl\n",
    "from os.path import expanduser\n",
    "# from mytools import griddata"
   ]
  },
  {
   "cell_type": "code",
   "execution_count": 33,
   "metadata": {
    "collapsed": true
   },
   "outputs": [],
   "source": [
    "def griddata(x,y,z,imshow=False):\n",
    "    \"\"\"\n",
    "    Takes in three 1D arrays, x, y, and z, all of which must be the same length\n",
    "    and which together form (xi,yi,zi) tuples, and creates a grid fit to be plotted\n",
    "    with either imshow or pcolormesh\n",
    "\n",
    "    if imshow = True, then the return is the array to plot followed by the extent to\n",
    "    pass.  in this case, the array has been flipped to make it work with imshow; just do:\n",
    "    H,extent = griddata(x,y,z,imshow=True)\n",
    "    plt.imshow(H,extent=extent)\n",
    "\n",
    "    if imshow = False, then the returns are the output of np.meshgrid and\n",
    "    the gridded Z data; just do:\n",
    "    X,Y,Z = griddata(x,y,z)\n",
    "    plt.pcolormesh(X,Y,Z)\n",
    "\n",
    "    \"\"\"\n",
    "    import numpy as np\n",
    "    assert len(x) == len(y) == len(z)\n",
    "    assert len(x) >= 2\n",
    "\n",
    "    x,y,z = np.array(x),np.array(y),np.array(z)\n",
    "    ux,uy = np.sort(np.unique(x)),np.sort(np.unique(y))\n",
    "    X,Y = np.meshgrid(ux,uy)\n",
    "    result = np.empty_like(X)\n",
    "    for ii in range(ux.shape[0]):\n",
    "        for jj in range(uy.shape[0]):\n",
    "            tx,ty = X[jj,ii],Y[jj,ii]\n",
    "            loc = (x==tx)&(y==ty)\n",
    "            assert loc[loc].shape[0] == 1\n",
    "            result[jj,ii] = z[loc]\n",
    "\n",
    "    if imshow:\n",
    "        extent = [ux[0]-(ux[1]-ux[0])/2.,ux[-1]+(ux[-1]-ux[-2])/2.,uy[0]-(uy[1]-uy[0])/2.,uy[-1]+(uy[-1]-uy[-2])/2.]\n",
    "        return result[::-1],extent\n",
    "    else:\n",
    "        #now I need to offset the ux and uy arrays, which indicate the centers of the squares, by 1/2 so that they instead indicate the corners\n",
    "        #need to make them go one above and one below\n",
    "        nux = np.append(ux[0]-(ux[1]-ux[0]),ux) #make it go one further below\n",
    "        nux = np.append(nux,nux[-1]+(nux[-1]-nux[-2]))\n",
    "\n",
    "        nuy = np.append(uy[0]-(uy[1]-uy[0]),uy)\n",
    "        nuy = np.append(nuy,nuy[-1]+(nuy[-1]-nuy[-2]))\n",
    "\n",
    "        ox = (nux[:-1]+nux[1:])/2.\n",
    "        oy = (nuy[:-1]+nuy[1:])/2.\n",
    "\n",
    "        X,Y = np.meshgrid(ox,oy)\n",
    "\n",
    "        return X,Y,result"
   ]
  },
  {
   "cell_type": "code",
   "execution_count": 2,
   "metadata": {
    "collapsed": false
   },
   "outputs": [],
   "source": [
    "indir = expanduser('~/Dropbox/LIGO_hosts/')"
   ]
  },
  {
   "cell_type": "code",
   "execution_count": 3,
   "metadata": {
    "collapsed": true
   },
   "outputs": [],
   "source": [
    "fname = indir+'lMgal_zform_rates_Z0.1PP04_dt10e7.npy'\n",
    "outname = fname[:-len('.npy')]+'_2dplot.png'"
   ]
  },
  {
   "cell_type": "code",
   "execution_count": 4,
   "metadata": {
    "collapsed": true
   },
   "outputs": [],
   "source": [
    "#fname = 'lMgal_zform_rates_Z_dt5e8_dlm050.1PP04.npy'\n",
    "#outname = fname[:-len('.npy')]+'_2dplot.png'"
   ]
  },
  {
   "cell_type": "code",
   "execution_count": 5,
   "metadata": {
    "collapsed": true
   },
   "outputs": [],
   "source": [
    "#fname = indir + 'lMgal_zform_rates_Z_dt5e8_dlm020.1PP04.npy'\n",
    "#outname = fname[len(indir):]+'_2dplot.png'"
   ]
  },
  {
   "cell_type": "code",
   "execution_count": 6,
   "metadata": {
    "collapsed": false
   },
   "outputs": [],
   "source": [
    "logM,zform,rate= load(fname)\n",
    "rate *= 1e9    #puts the rate in Gpc^-3 yr^-1\n",
    "lograte = log10(rate)"
   ]
  },
  {
   "cell_type": "code",
   "execution_count": 7,
   "metadata": {
    "collapsed": false
   },
   "outputs": [],
   "source": [
    "logM_01,zform_01,rate_01 = load(indir+'lMgal_zform_rates_Z0.01PP04_dt10e7.npy')\n",
    "rate_01 *= 1e9"
   ]
  },
  {
   "cell_type": "code",
   "execution_count": 8,
   "metadata": {
    "collapsed": true
   },
   "outputs": [],
   "source": [
    "logM_3,zform_3,rate_3 = load(indir+'lMgal_zform_rates_Z0.3PP04_dt10e7.npy')\n",
    "rate_3 *= 1e9"
   ]
  },
  {
   "cell_type": "markdown",
   "metadata": {},
   "source": [
    "Convert zform into lookback time:"
   ]
  },
  {
   "cell_type": "code",
   "execution_count": 11,
   "metadata": {
    "collapsed": false
   },
   "outputs": [],
   "source": [
    "Om = 0.3; Ol = 0.7; h = 0.7\n",
    "from yt.utilities.cosmology import Cosmology\n",
    "cosmo = Cosmology(hubble_constant=h,omega_matter=Om,omega_lambda=Ol)\n",
    "tform = array([cosmo.lookback_time(0,z).in_units('Gyr').item() for z in zform])"
   ]
  },
  {
   "cell_type": "code",
   "execution_count": 12,
   "metadata": {
    "collapsed": false
   },
   "outputs": [],
   "source": [
    "if (zform_01 == zform).all():\n",
    "    tform_01 = array(tform,copy=True)\n",
    "else:\n",
    "    tform_01 = array([cosmo.lookback_time(0,z).in_units('Gyr').item() for z in zform_01])\n",
    "\n",
    "if (zform_3 == zform).all():\n",
    "    tform_3 =  array(tform,copy=True)\n",
    "else:    \n",
    "    tform_3 = array([cosmo.lookback_time(0,z).in_units('Gyr').item() for z in zform_3])"
   ]
  },
  {
   "cell_type": "markdown",
   "metadata": {},
   "source": [
    "##### Sum up the data in the vertical and horizontal direction:"
   ]
  },
  {
   "cell_type": "code",
   "execution_count": 13,
   "metadata": {
    "collapsed": false
   },
   "outputs": [],
   "source": [
    "uniqM = unique(logM)    #always working in logspace\n",
    "uniqt = unique(tform) "
   ]
  },
  {
   "cell_type": "code",
   "execution_count": 14,
   "metadata": {
    "collapsed": true
   },
   "outputs": [],
   "source": [
    "uniqM_01 = unique(logM_01)\n",
    "uniqt_01 = unique(tform_01)\n",
    "\n",
    "uniqM_3 = unique(logM_3)\n",
    "uniqt_3 = unique(tform_3)"
   ]
  },
  {
   "cell_type": "markdown",
   "metadata": {},
   "source": [
    "uniqM is the x array for the top plot; uniqt is the y array for the right plot (but the dependant axis)\n",
    "\n",
    "Now I need to sum along each axis:"
   ]
  },
  {
   "cell_type": "code",
   "execution_count": 15,
   "metadata": {
    "collapsed": false
   },
   "outputs": [],
   "source": [
    "rate_top = empty_like(uniqM)\n",
    "rate_right = empty_like(uniqt)\n",
    "\n",
    "# dlogM = 0.2\n",
    "# dt = 1e8  #years\n",
    "\n",
    "for ii in range(uniqM.shape[0]):  \n",
    "    rate_top[ii] = rate[logM==uniqM[ii]].sum()   #*dt   #don't multiply by dt because Astrid already did it\n",
    "for ii in range(uniqt.shape[0]):\n",
    "    rate_right[ii] = rate[tform==uniqt[ii]].sum()  #*dlogM #don't multiply by dlogM because Astrid already did it"
   ]
  },
  {
   "cell_type": "code",
   "execution_count": 16,
   "metadata": {
    "collapsed": true
   },
   "outputs": [],
   "source": [
    "rate_top_01 = empty_like(uniqM_01)\n",
    "rate_right_01 = empty_like(uniqt_01)\n",
    "\n",
    "# dlogM = 0.2\n",
    "# dt = 1e8  #years\n",
    "\n",
    "for ii in range(uniqM_01.shape[0]):  \n",
    "    rate_top_01[ii] = rate_01[logM_01==uniqM_01[ii]].sum()   #*dt   #don't multiply by dt because Astrid already did it\n",
    "for ii in range(uniqt_01.shape[0]):\n",
    "    rate_right_01[ii] = rate_01[tform_01==uniqt_01[ii]].sum()  #*dlogM #don't multiply by dlogM because Astrid already did it"
   ]
  },
  {
   "cell_type": "code",
   "execution_count": 18,
   "metadata": {
    "collapsed": true
   },
   "outputs": [],
   "source": [
    "rate_top_3 = empty_like(uniqM_01)\n",
    "rate_right_3 = empty_like(uniqt_01)\n",
    "\n",
    "# dlogM = 0.2\n",
    "# dt = 1e8  #years\n",
    "\n",
    "for ii in range(uniqM_3.shape[0]):  \n",
    "    rate_top_3[ii] = rate_3[logM_3==uniqM_3[ii]].sum()   #*dt   #don't multiply by dt because Astrid already did it\n",
    "for ii in range(uniqt_01.shape[0]):\n",
    "    rate_right_3[ii] = rate_3[tform_3==uniqt_3[ii]].sum()  #*dlogM #don't multiply by dlogM because Astrid already did it"
   ]
  },
  {
   "cell_type": "markdown",
   "metadata": {},
   "source": [
    "Grid the data using a function I have"
   ]
  },
  {
   "cell_type": "code",
   "execution_count": 19,
   "metadata": {
    "collapsed": false
   },
   "outputs": [],
   "source": [
    "Mgrid,Tgrid,Rgrid = griddata(logM,tform,rate)"
   ]
  },
  {
   "cell_type": "code",
   "execution_count": 20,
   "metadata": {
    "collapsed": false
   },
   "outputs": [
    {
     "name": "stdout",
     "output_type": "stream",
     "text": [
      "-4.93539603594 -0.0196883037996\n",
      "1.30117056596 12.8321366978\n",
      "0.1 7.95\n",
      "1.30117056596 Gyr\n"
     ]
    }
   ],
   "source": [
    "print min(log10(Rgrid.flatten())),max(log10(Rgrid.flatten())) \n",
    "print tform.min(),tform.max()\n",
    "print zform.min(),zform.max()\n",
    "print cosmo.lookback_time(0,0.1).in_units('Gyr')   #from Ned Wright, should be 1.3 Gyr"
   ]
  },
  {
   "cell_type": "markdown",
   "metadata": {},
   "source": [
    "Calculate some total rates:"
   ]
  },
  {
   "cell_type": "code",
   "execution_count": 22,
   "metadata": {
    "collapsed": false
   },
   "outputs": [
    {
     "name": "stdout",
     "output_type": "stream",
     "text": [
      "Total rate, summing all boxes (0.1): 3686.65579782\n",
      "Total rate for 0.01:  140.863340164\n",
      "Total rate for 0.3:  13662.7471497\n"
     ]
    }
   ],
   "source": [
    "print \"Total rate, summing all boxes (0.1): {0}\".format(Rgrid.flatten().sum())\n",
    "print \"Total rate for 0.01:  {0}\".format(rate_top_01.sum())\n",
    "print \"Total rate for 0.3:  {0}\".format(rate_top_3.sum())"
   ]
  },
  {
   "cell_type": "code",
   "execution_count": 28,
   "metadata": {
    "collapsed": false
   },
   "outputs": [
    {
     "name": "stdout",
     "output_type": "stream",
     "text": [
      "As a check, the rates summing the top and right axes:\n",
      "Top:  3686.65579782\n",
      "Right: 3686.65579782\n"
     ]
    }
   ],
   "source": [
    "print \"As a check, the rates summing the top and right axes:\"\n",
    "print \"Top:  {0}\".format(rate_top.sum())\n",
    "print \"Right: {0}\".format(rate_right.sum())"
   ]
  },
  {
   "cell_type": "markdown",
   "metadata": {},
   "source": [
    "##### Make the plot!"
   ]
  },
  {
   "cell_type": "code",
   "execution_count": 29,
   "metadata": {
    "collapsed": false
   },
   "outputs": [],
   "source": [
    "xtickloc = [7,8,9,10,11]\n",
    "xtickstr = ['$'+str(kk)+'$' for kk in xtickloc]\n",
    "\n",
    "ytickloc = [0,2,4,6,8,10,12]\n",
    "ytickstr = ['$'+str(kk)+'$' for kk in ytickloc]\n",
    "\n",
    "# toptickloc = [3,3.5,4,4.5]\n",
    "# toptickstr = ['$'+str(kk)+'$' for kk in toptickloc]\n",
    "\n",
    "righttickloc = [-2,0,2]\n",
    "righttickstr = ['$'+str(kk)+'$' for kk in righttickloc]\n",
    "\n",
    "vmin = -5\n",
    "vmax = .0\n",
    "\n",
    "ctickloc = [vmin,(vmin+vmax)/2.,vmax]\n",
    "ctickstr = ['$'+str(kk)+'$' for kk in ctickloc]\n",
    "\n",
    "fontsize = 24\n",
    "\n",
    "cornermax = 3.25\n",
    "cornermin = -2"
   ]
  },
  {
   "cell_type": "code",
   "execution_count": 31,
   "metadata": {
    "collapsed": false
   },
   "outputs": [
    {
     "name": "stdout",
     "output_type": "stream",
     "text": [
      "Saved /Users/shea/Dropbox/LIGO_hosts/lMgal_zform_rates_Z0.1PP04_dt10e7_2dplot.png\n"
     ]
    },
    {
     "data": {
      "image/png": "[encoded data removed]",
      "text/plain": [
       "<matplotlib.figure.Figure at 0x1124336d0>"
      ]
     },
     "metadata": {},
     "output_type": "display_data"
    }
   ],
   "source": [
    "fig = plt.figure(figsize=(12,12))\n",
    "main_ax = plt.axes([0.1,0.1,0.65,0.65])\n",
    "top_ax = plt.axes([0.1,0.75,0.65,0.2],sharex=main_ax)\n",
    "right_ax = plt.axes([0.75,0.1,0.2,0.65],sharey=main_ax)\n",
    "vertical_cbar = False\n",
    "\n",
    "if vertical_cbar:\n",
    "#     cax = plt.axes([0.825,0.825,0.05,0.175])\n",
    "    cax = plt.axes([0.785,0.815,0.05,0.15])\n",
    "else:\n",
    "    cax = plt.axes([0.765,0.825,0.175,0.15])\n",
    "# cax = plt.axes([0.8,0.8,0.2,0.2])\n",
    "    \n",
    "cax.set_axis_off()\n",
    "plt.setp(top_ax.get_xticklabels(),visible=False)\n",
    "plt.setp(right_ax.get_yticklabels(),visible=False)\n",
    "\n",
    "im = main_ax.pcolormesh(Mgrid,Tgrid,log10(Rgrid),cmap='inferno',vmin=vmin,vmax=vmax)\n",
    "\n",
    "top_ax.plot(uniqM,log10(rate_top),'k-',lw=3.5)\n",
    "right_ax.plot(log10(rate_right),uniqt,'k-',lw=3.5)\n",
    "\n",
    "top_ax.plot(uniqM_01,log10(rate_top_01),'k:',lw=3.5)\n",
    "right_ax.plot(log10(rate_right_01),uniqt_01,'k:',lw=3.5)\n",
    "\n",
    "top_ax.plot(uniqM_3,log10(rate_top_3),'k--',lw=3.5)\n",
    "right_ax.plot(log10(rate_right_3),uniqt_3,'k--',lw=3.5)\n",
    "\n",
    "main_ax.set_xlabel(r'$\\log\\,M_\\mathrm{gal}(z = 0)\\,(M_\\odot)$',fontsize=fontsize)\n",
    "main_ax.set_ylabel(r'$t_\\mathrm{lookback}^\\mathrm{form}\\,\\mathrm{(Gyr)}$',fontsize=fontsize)\n",
    "right_ax.set_xlabel(r'$\\log\\,R$',fontsize=fontsize)\n",
    "top_ax.set_ylabel(r'$\\log\\,R$',fontsize=fontsize)\n",
    "\n",
    "main_ax.set_xticks(xtickloc)\n",
    "main_ax.set_xticklabels(xtickstr,fontsize=fontsize)\n",
    "\n",
    "main_ax.set_yticks(ytickloc)\n",
    "main_ax.set_yticklabels(ytickstr,fontsize=fontsize)\n",
    "\n",
    "main_ax.set_xlim(logM.min(),logM.max())\n",
    "top_ax.set_xlim(main_ax.get_xlim())\n",
    "\n",
    "main_ax.set_ylim(tform.min(),tform.max())\n",
    "right_ax.set_ylim(main_ax.get_ylim())\n",
    "\n",
    "\n",
    "top_ax.set_ylim(cornermin,cornermax)\n",
    "right_ax.set_xlim(cornermin,cornermax)\n",
    "\n",
    "top_ax.set_yticks(righttickloc)\n",
    "top_ax.set_yticklabels(righttickstr,fontsize=fontsize)\n",
    "\n",
    "right_ax.set_xticks(righttickloc)\n",
    "right_ax.set_xticklabels(righttickstr,fontsize=fontsize)\n",
    "\n",
    "# loc = plticker.MultipleLocator(base=4.0) # this locator puts ticks at regular intervals\n",
    "# right_ax.xaxis.set_major_locator(loc)\n",
    "# top_ax.yaxis.set_major_locator(loc)\n",
    "\n",
    "# norm = mpl.colors.Normalize(vmin=min(log10(Rgrid.flatten())), vmax=max(log10(Rgrid.flatten())))\n",
    "# cbar = mpl.colorbar.ColorbarBase(cax,cmap='inferno',norm=norm,orientation='horizontal')\n",
    "# cbar.set_label('test')\n",
    "\n",
    "cbar = plt.colorbar(im,orientation='horizontal',fraction=0.5,aspect=4)\n",
    "\n",
    "cbar.set_label(r'$\\log\\,R$',fontsize=fontsize,labelpad=-100,horizontalalignment='center')\n",
    "cbar.set_ticks(ctickloc)\n",
    "cbar.set_ticklabels(ctickstr)\n",
    "for t in cbar.ax.xaxis.get_ticklabels():\n",
    "    t.set_fontsize(fontsize)\n",
    "    \n",
    "# cax.set_xlabel(r'$\\log_{10}(Rate)$',fontsize=24)\n",
    "# plt.figtext(0.81,0.815+0.155,r'$\\log\\,\\mathrm{Rate}$',fontsize=24,ha='left',va='bottom')\n",
    "\n",
    "plt.savefig(outname)\n",
    "print \"Saved \"+outname"
   ]
  },
  {
   "cell_type": "code",
   "execution_count": null,
   "metadata": {
    "collapsed": true
   },
   "outputs": [],
   "source": []
  }
 ],
 "metadata": {
  "kernelspec": {
   "display_name": "Python 2",
   "language": "python",
   "name": "python2"
  },
  "language_info": {
   "codemirror_mode": {
    "name": "ipython",
    "version": 2
   },
   "file_extension": ".py",
   "mimetype": "text/x-python",
   "name": "python",
   "nbconvert_exporter": "python",
   "pygments_lexer": "ipython2",
   "version": "2.7.11"
  }
 },
 "nbformat": 4,
 "nbformat_minor": 0
}
